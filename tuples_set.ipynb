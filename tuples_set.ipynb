{
 "cells": [
  {
   "cell_type": "code",
   "execution_count": 1,
   "id": "f4803244-f188-41cd-8d19-8eb317646530",
   "metadata": {},
   "outputs": [],
   "source": [
    "x = \"Deepali\""
   ]
  },
  {
   "cell_type": "code",
   "execution_count": 2,
   "id": "7e378073-56b0-49a2-8309-46a5bab9d765",
   "metadata": {},
   "outputs": [
    {
     "data": {
      "text/plain": [
       "'Deepali'"
      ]
     },
     "execution_count": 2,
     "metadata": {},
     "output_type": "execute_result"
    }
   ],
   "source": [
    "x"
   ]
  },
  {
   "cell_type": "code",
   "execution_count": 3,
   "id": "8c382d12-95c4-4d16-b88e-592b4141bb94",
   "metadata": {},
   "outputs": [
    {
     "data": {
      "text/plain": [
       "'meepali'"
      ]
     },
     "execution_count": 3,
     "metadata": {},
     "output_type": "execute_result"
    }
   ],
   "source": [
    "x.replace('D' , 'm')"
   ]
  },
  {
   "cell_type": "code",
   "execution_count": 4,
   "id": "1089d506-6120-49d7-bb48-fb84a0f77d5e",
   "metadata": {},
   "outputs": [
    {
     "ename": "NameError",
     "evalue": "name 'X' is not defined",
     "output_type": "error",
     "traceback": [
      "\u001b[1;31m---------------------------------------------------------------------------\u001b[0m",
      "\u001b[1;31mNameError\u001b[0m                                 Traceback (most recent call last)",
      "Cell \u001b[1;32mIn[4], line 1\u001b[0m\n\u001b[1;32m----> 1\u001b[0m \u001b[43mX\u001b[49m\n",
      "\u001b[1;31mNameError\u001b[0m: name 'X' is not defined"
     ]
    }
   ],
   "source": [
    "X"
   ]
  },
  {
   "cell_type": "code",
   "execution_count": 5,
   "id": "1c795af6-49a2-4e9b-a80e-25986121ab9b",
   "metadata": {},
   "outputs": [
    {
     "data": {
      "text/plain": [
       "'Deepali'"
      ]
     },
     "execution_count": 5,
     "metadata": {},
     "output_type": "execute_result"
    }
   ],
   "source": [
    "x"
   ]
  },
  {
   "cell_type": "code",
   "execution_count": 7,
   "id": "fcec496e-ef59-4af9-84cc-19b8364cf6d3",
   "metadata": {},
   "outputs": [],
   "source": [
    "t = (2,3,45,56, 'deepali', 45.67 , 45+7j , [3,4,5,6])"
   ]
  },
  {
   "cell_type": "code",
   "execution_count": 8,
   "id": "f216cb36-c755-4443-b229-0ee90b97595c",
   "metadata": {},
   "outputs": [
    {
     "data": {
      "text/plain": [
       "(2, 3, 45, 56, 'deepali', 45.67, (45+7j), [3, 4, 5, 6])"
      ]
     },
     "execution_count": 8,
     "metadata": {},
     "output_type": "execute_result"
    }
   ],
   "source": [
    "t"
   ]
  },
  {
   "cell_type": "code",
   "execution_count": 9,
   "id": "8eae42bd-cd9c-4573-8a9a-4cdedc79dd44",
   "metadata": {},
   "outputs": [
    {
     "data": {
      "text/plain": [
       "tuple"
      ]
     },
     "execution_count": 9,
     "metadata": {},
     "output_type": "execute_result"
    }
   ],
   "source": [
    "type(t)"
   ]
  },
  {
   "cell_type": "code",
   "execution_count": 10,
   "id": "3432f793-8f42-41f3-9d7a-c66136133d06",
   "metadata": {},
   "outputs": [
    {
     "data": {
      "text/plain": [
       "8"
      ]
     },
     "execution_count": 10,
     "metadata": {},
     "output_type": "execute_result"
    }
   ],
   "source": [
    "len(t)"
   ]
  },
  {
   "cell_type": "code",
   "execution_count": 11,
   "id": "82831ec4-de5e-43c5-bafa-37659ddf4d4d",
   "metadata": {},
   "outputs": [
    {
     "data": {
      "text/plain": [
       "2"
      ]
     },
     "execution_count": 11,
     "metadata": {},
     "output_type": "execute_result"
    }
   ],
   "source": [
    "t[0]"
   ]
  },
  {
   "cell_type": "code",
   "execution_count": 12,
   "id": "fdeb52b7-4ed0-42a0-9c32-ab3f49c6eae1",
   "metadata": {},
   "outputs": [
    {
     "data": {
      "text/plain": [
       "[3, 4, 5, 6]"
      ]
     },
     "execution_count": 12,
     "metadata": {},
     "output_type": "execute_result"
    }
   ],
   "source": [
    "t[-1]"
   ]
  },
  {
   "cell_type": "code",
   "execution_count": 13,
   "id": "6f992b4c-f1ee-41d9-82b4-24049cbd809e",
   "metadata": {},
   "outputs": [
    {
     "data": {
      "text/plain": [
       "([3, 4, 5, 6], (45+7j), 45.67, 'deepali', 56, 45, 3, 2)"
      ]
     },
     "execution_count": 13,
     "metadata": {},
     "output_type": "execute_result"
    }
   ],
   "source": [
    "t[::-1]"
   ]
  },
  {
   "cell_type": "code",
   "execution_count": 14,
   "id": "2061e4c8-81e0-40e0-92e3-dbcccc5626cf",
   "metadata": {},
   "outputs": [
    {
     "ename": "TypeError",
     "evalue": "'tuple' object does not support item assignment",
     "output_type": "error",
     "traceback": [
      "\u001b[1;31m---------------------------------------------------------------------------\u001b[0m",
      "\u001b[1;31mTypeError\u001b[0m                                 Traceback (most recent call last)",
      "Cell \u001b[1;32mIn[14], line 1\u001b[0m\n\u001b[1;32m----> 1\u001b[0m \u001b[43mt\u001b[49m\u001b[43m[\u001b[49m\u001b[38;5;241;43m0\u001b[39;49m\u001b[43m]\u001b[49m\u001b[38;5;241m=\u001b[39m\u001b[38;5;124m\"\u001b[39m\u001b[38;5;124mhelllo\u001b[39m\u001b[38;5;124m\"\u001b[39m\n",
      "\u001b[1;31mTypeError\u001b[0m: 'tuple' object does not support item assignment"
     ]
    }
   ],
   "source": [
    "t[0]=\"helllo\""
   ]
  },
  {
   "cell_type": "code",
   "execution_count": 15,
   "id": "267c99af-4e1f-4f21-9201-e2b934a06699",
   "metadata": {},
   "outputs": [
    {
     "ename": "AttributeError",
     "evalue": "'tuple' object has no attribute 'replace'",
     "output_type": "error",
     "traceback": [
      "\u001b[1;31m---------------------------------------------------------------------------\u001b[0m",
      "\u001b[1;31mAttributeError\u001b[0m                            Traceback (most recent call last)",
      "Cell \u001b[1;32mIn[15], line 1\u001b[0m\n\u001b[1;32m----> 1\u001b[0m \u001b[43mt\u001b[49m\u001b[38;5;241;43m.\u001b[39;49m\u001b[43mreplace\u001b[49m(\u001b[38;5;241m2\u001b[39m , \u001b[38;5;241m3\u001b[39m)\n",
      "\u001b[1;31mAttributeError\u001b[0m: 'tuple' object has no attribute 'replace'"
     ]
    }
   ],
   "source": [
    "t.replace(2 , 3)"
   ]
  },
  {
   "cell_type": "code",
   "execution_count": 16,
   "id": "d3b66b1c-0287-4fcf-8905-91d86219f2da",
   "metadata": {},
   "outputs": [
    {
     "data": {
      "text/plain": [
       "1"
      ]
     },
     "execution_count": 16,
     "metadata": {},
     "output_type": "execute_result"
    }
   ],
   "source": [
    "t.count(2)"
   ]
  },
  {
   "cell_type": "code",
   "execution_count": 18,
   "id": "abb9b66a-6853-4e93-9fc9-16d90ed43d3b",
   "metadata": {},
   "outputs": [
    {
     "data": {
      "text/plain": [
       "3"
      ]
     },
     "execution_count": 18,
     "metadata": {},
     "output_type": "execute_result"
    }
   ],
   "source": [
    "t.index(56)"
   ]
  },
  {
   "cell_type": "code",
   "execution_count": 19,
   "id": "8accaed4-a7af-4b3f-a4fb-47f44dac22c8",
   "metadata": {},
   "outputs": [],
   "source": [
    "s1 = {}"
   ]
  },
  {
   "cell_type": "code",
   "execution_count": 20,
   "id": "38d374be-f261-4644-850f-ed6e6755d272",
   "metadata": {},
   "outputs": [
    {
     "data": {
      "text/plain": [
       "dict"
      ]
     },
     "execution_count": 20,
     "metadata": {},
     "output_type": "execute_result"
    }
   ],
   "source": [
    "type(s1)"
   ]
  },
  {
   "cell_type": "code",
   "execution_count": 21,
   "id": "e6a1e969-cde5-4e4d-a7d6-bd02ca644b78",
   "metadata": {},
   "outputs": [],
   "source": [
    "s2 = {2,3,4,5,6}"
   ]
  },
  {
   "cell_type": "code",
   "execution_count": 22,
   "id": "f60d7c4c-bb80-4e9c-bcc9-932bf7e00063",
   "metadata": {},
   "outputs": [
    {
     "data": {
      "text/plain": [
       "set"
      ]
     },
     "execution_count": 22,
     "metadata": {},
     "output_type": "execute_result"
    }
   ],
   "source": [
    "type(s2)"
   ]
  },
  {
   "cell_type": "code",
   "execution_count": 23,
   "id": "11d67640-57b3-43e3-b728-cf19ed16d150",
   "metadata": {},
   "outputs": [],
   "source": [
    "s4 = {2,3,4,5,6,7,8,9,2,3,4,5,6,7,8,90,2,3,4,5,6,7,8,9,0,1,2,3,4,5,6,77}"
   ]
  },
  {
   "cell_type": "code",
   "execution_count": 24,
   "id": "8b905a92-3e28-4d15-b930-5255de53fe74",
   "metadata": {},
   "outputs": [
    {
     "data": {
      "text/plain": [
       "{0, 1, 2, 3, 4, 5, 6, 7, 8, 9, 77, 90}"
      ]
     },
     "execution_count": 24,
     "metadata": {},
     "output_type": "execute_result"
    }
   ],
   "source": [
    "s4"
   ]
  },
  {
   "cell_type": "code",
   "execution_count": 25,
   "id": "cf1bc451-0820-4ff0-9fc3-7aaa3809862d",
   "metadata": {},
   "outputs": [],
   "source": [
    "l = list(s4)"
   ]
  },
  {
   "cell_type": "code",
   "execution_count": 26,
   "id": "3551ce7f-43f6-43d5-b16f-2b9115649ebc",
   "metadata": {},
   "outputs": [
    {
     "data": {
      "text/plain": [
       "[0, 1, 2, 3, 4, 5, 6, 7, 8, 9, 77, 90]"
      ]
     },
     "execution_count": 26,
     "metadata": {},
     "output_type": "execute_result"
    }
   ],
   "source": [
    "l"
   ]
  },
  {
   "cell_type": "code",
   "execution_count": 27,
   "id": "40efeca0-86bb-4263-a89a-70145fa54d33",
   "metadata": {},
   "outputs": [],
   "source": [
    "t1= tuple(s4)"
   ]
  },
  {
   "cell_type": "code",
   "execution_count": 28,
   "id": "8f280053-bef3-4d1d-91f3-1bab77cca09e",
   "metadata": {},
   "outputs": [
    {
     "data": {
      "text/plain": [
       "(0, 1, 2, 3, 4, 5, 6, 7, 8, 9, 77, 90)"
      ]
     },
     "execution_count": 28,
     "metadata": {},
     "output_type": "execute_result"
    }
   ],
   "source": [
    "t1"
   ]
  },
  {
   "cell_type": "code",
   "execution_count": 31,
   "id": "3bbf4aa5-a5af-4c8f-92db-9b15ed2bd2a6",
   "metadata": {},
   "outputs": [],
   "source": [
    "s5 = {2,234,45,23,12,456,2,234,\"abc\"}"
   ]
  },
  {
   "cell_type": "code",
   "execution_count": 32,
   "id": "8eb096d3-4e52-48ac-a278-cd1cf9c30e20",
   "metadata": {},
   "outputs": [
    {
     "data": {
      "text/plain": [
       "{12, 2, 23, 234, 45, 456, 'abc'}"
      ]
     },
     "execution_count": 32,
     "metadata": {},
     "output_type": "execute_result"
    }
   ],
   "source": [
    "s5"
   ]
  },
  {
   "cell_type": "code",
   "execution_count": 33,
   "id": "be3bc22a-541d-46b9-bf19-7a74e9d83619",
   "metadata": {},
   "outputs": [
    {
     "ename": "TypeError",
     "evalue": "'set' object is not subscriptable",
     "output_type": "error",
     "traceback": [
      "\u001b[1;31m---------------------------------------------------------------------------\u001b[0m",
      "\u001b[1;31mTypeError\u001b[0m                                 Traceback (most recent call last)",
      "Cell \u001b[1;32mIn[33], line 1\u001b[0m\n\u001b[1;32m----> 1\u001b[0m \u001b[43ms5\u001b[49m\u001b[43m[\u001b[49m\u001b[38;5;241;43m0\u001b[39;49m\u001b[43m]\u001b[49m\n",
      "\u001b[1;31mTypeError\u001b[0m: 'set' object is not subscriptable"
     ]
    }
   ],
   "source": [
    "s5[0]"
   ]
  },
  {
   "cell_type": "code",
   "execution_count": 34,
   "id": "5e9694bb-85af-4802-9eb5-e985ce66c4cf",
   "metadata": {},
   "outputs": [],
   "source": [
    "s5.add(4)"
   ]
  },
  {
   "cell_type": "code",
   "execution_count": 35,
   "id": "ca7e0255-dac2-4c9a-91a7-16e9ae115f11",
   "metadata": {},
   "outputs": [
    {
     "data": {
      "text/plain": [
       "{12, 2, 23, 234, 4, 45, 456, 'abc'}"
      ]
     },
     "execution_count": 35,
     "metadata": {},
     "output_type": "execute_result"
    }
   ],
   "source": [
    "s5"
   ]
  },
  {
   "cell_type": "code",
   "execution_count": 36,
   "id": "e1d0b081-62af-4a92-9629-23f0e2d8f119",
   "metadata": {},
   "outputs": [],
   "source": [
    "s5.remove(4)"
   ]
  },
  {
   "cell_type": "code",
   "execution_count": 37,
   "id": "c19055c9-7b9b-4908-9a2c-0c9ab3424380",
   "metadata": {},
   "outputs": [
    {
     "data": {
      "text/plain": [
       "{12, 2, 23, 234, 45, 456, 'abc'}"
      ]
     },
     "execution_count": 37,
     "metadata": {},
     "output_type": "execute_result"
    }
   ],
   "source": [
    "s5"
   ]
  },
  {
   "cell_type": "code",
   "execution_count": null,
   "id": "415dc148-782c-4a97-b01c-b8ec2b82d515",
   "metadata": {},
   "outputs": [],
   "source": []
  }
 ],
 "metadata": {
  "kernelspec": {
   "display_name": "Python 3 (ipykernel)",
   "language": "python",
   "name": "python3"
  },
  "language_info": {
   "codemirror_mode": {
    "name": "ipython",
    "version": 3
   },
   "file_extension": ".py",
   "mimetype": "text/x-python",
   "name": "python",
   "nbconvert_exporter": "python",
   "pygments_lexer": "ipython3",
   "version": "3.12.3"
  }
 },
 "nbformat": 4,
 "nbformat_minor": 5
}
