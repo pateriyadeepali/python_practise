{
 "cells": [
  {
   "cell_type": "code",
   "execution_count": 2,
   "id": "9ee8db4c-0b35-4867-b353-2b2c32b3a6a0",
   "metadata": {},
   "outputs": [],
   "source": [
    "l = [1,23,45,66, \"deepali\", 5+7j]"
   ]
  },
  {
   "cell_type": "code",
   "execution_count": 3,
   "id": "9b4cf510-4016-4241-89fc-49c040563dd7",
   "metadata": {},
   "outputs": [
    {
     "data": {
      "text/plain": [
       "[1, 23, 45, 66, 'deepali', (5+7j)]"
      ]
     },
     "execution_count": 3,
     "metadata": {},
     "output_type": "execute_result"
    }
   ],
   "source": [
    "l"
   ]
  },
  {
   "cell_type": "code",
   "execution_count": 4,
   "id": "4ddb254c-5938-4388-9d3a-54af6000642d",
   "metadata": {},
   "outputs": [
    {
     "data": {
      "text/plain": [
       "list"
      ]
     },
     "execution_count": 4,
     "metadata": {},
     "output_type": "execute_result"
    }
   ],
   "source": [
    "type(l)"
   ]
  },
  {
   "cell_type": "code",
   "execution_count": 5,
   "id": "c3d6f4ef-0be6-4de6-8421-5b8cbe16289c",
   "metadata": {},
   "outputs": [
    {
     "data": {
      "text/plain": [
       "1"
      ]
     },
     "execution_count": 5,
     "metadata": {},
     "output_type": "execute_result"
    }
   ],
   "source": [
    "l[0]"
   ]
  },
  {
   "cell_type": "code",
   "execution_count": 6,
   "id": "849144a8-1cd6-4a20-903a-cbf31156bab2",
   "metadata": {},
   "outputs": [
    {
     "ename": "TypeError",
     "evalue": "'list' object is not callable",
     "output_type": "error",
     "traceback": [
      "\u001b[1;31m---------------------------------------------------------------------------\u001b[0m",
      "\u001b[1;31mTypeError\u001b[0m                                 Traceback (most recent call last)",
      "Cell \u001b[1;32mIn[6], line 1\u001b[0m\n\u001b[1;32m----> 1\u001b[0m \u001b[43ml\u001b[49m\u001b[43m(\u001b[49m\u001b[38;5;241;43m100\u001b[39;49m\u001b[43m)\u001b[49m\n",
      "\u001b[1;31mTypeError\u001b[0m: 'list' object is not callable"
     ]
    }
   ],
   "source": [
    "l(100)"
   ]
  },
  {
   "cell_type": "code",
   "execution_count": 7,
   "id": "49f1e70c-1ff5-4b1b-a2f8-ab8c62a9996d",
   "metadata": {},
   "outputs": [
    {
     "data": {
      "text/plain": [
       "[1, 23, 45]"
      ]
     },
     "execution_count": 7,
     "metadata": {},
     "output_type": "execute_result"
    }
   ],
   "source": [
    "l[0:3]"
   ]
  },
  {
   "cell_type": "code",
   "execution_count": 8,
   "id": "63cf1e6b-b75d-47d4-8d1f-1be149109924",
   "metadata": {},
   "outputs": [
    {
     "data": {
      "text/plain": [
       "(5+7j)"
      ]
     },
     "execution_count": 8,
     "metadata": {},
     "output_type": "execute_result"
    }
   ],
   "source": [
    "l[-1]"
   ]
  },
  {
   "cell_type": "code",
   "execution_count": 9,
   "id": "162e9be0-450c-47d6-9703-7b402f2ffd03",
   "metadata": {},
   "outputs": [
    {
     "data": {
      "text/plain": [
       "[(5+7j), 'deepali', 66, 45, 23, 1]"
      ]
     },
     "execution_count": 9,
     "metadata": {},
     "output_type": "execute_result"
    }
   ],
   "source": [
    "l[::-1]"
   ]
  },
  {
   "cell_type": "code",
   "execution_count": null,
   "id": "eb6d80d5-4080-4c97-bca1-749b9b7d06b6",
   "metadata": {},
   "outputs": [],
   "source": [
    "## slice the data which is on even index "
   ]
  },
  {
   "cell_type": "code",
   "execution_count": 10,
   "id": "d6f2f64b-521a-40bc-9734-8cc929b8175b",
   "metadata": {},
   "outputs": [
    {
     "data": {
      "text/plain": [
       "[1, 45, 'deepali']"
      ]
     },
     "execution_count": 10,
     "metadata": {},
     "output_type": "execute_result"
    }
   ],
   "source": [
    "l[::2]"
   ]
  },
  {
   "cell_type": "code",
   "execution_count": 11,
   "id": "20c63f5c-53e1-4c3d-a7fd-d8acae0769e2",
   "metadata": {},
   "outputs": [],
   "source": [
    "s = \"linux world\""
   ]
  },
  {
   "cell_type": "code",
   "execution_count": 12,
   "id": "cd753e23-96f2-4c28-99e7-f89663ed4d57",
   "metadata": {},
   "outputs": [
    {
     "data": {
      "text/plain": [
       "'linux world'"
      ]
     },
     "execution_count": 12,
     "metadata": {},
     "output_type": "execute_result"
    }
   ],
   "source": [
    "s"
   ]
  },
  {
   "cell_type": "code",
   "execution_count": 13,
   "id": "d0aaed82-dd87-404e-9509-8b6e376e42ac",
   "metadata": {},
   "outputs": [
    {
     "ename": "TypeError",
     "evalue": "can only concatenate str (not \"list\") to str",
     "output_type": "error",
     "traceback": [
      "\u001b[1;31m---------------------------------------------------------------------------\u001b[0m",
      "\u001b[1;31mTypeError\u001b[0m                                 Traceback (most recent call last)",
      "Cell \u001b[1;32mIn[13], line 1\u001b[0m\n\u001b[1;32m----> 1\u001b[0m \u001b[43ms\u001b[49m\u001b[38;5;241;43m+\u001b[39;49m\u001b[43ml\u001b[49m\n",
      "\u001b[1;31mTypeError\u001b[0m: can only concatenate str (not \"list\") to str"
     ]
    }
   ],
   "source": [
    "s+l"
   ]
  },
  {
   "cell_type": "code",
   "execution_count": 15,
   "id": "2da402d5-0d92-4662-89c3-8e0b96ed6548",
   "metadata": {},
   "outputs": [
    {
     "data": {
      "text/plain": [
       "['l',\n",
       " 'i',\n",
       " 'n',\n",
       " 'u',\n",
       " 'x',\n",
       " ' ',\n",
       " 'w',\n",
       " 'o',\n",
       " 'r',\n",
       " 'l',\n",
       " 'd',\n",
       " 1,\n",
       " 23,\n",
       " 45,\n",
       " 66,\n",
       " 'deepali',\n",
       " (5+7j)]"
      ]
     },
     "execution_count": 15,
     "metadata": {},
     "output_type": "execute_result"
    }
   ],
   "source": [
    "list(s) +l"
   ]
  },
  {
   "cell_type": "code",
   "execution_count": 16,
   "id": "b59dda31-bb8a-4404-adfe-28b0d70b8cd2",
   "metadata": {},
   "outputs": [
    {
     "data": {
      "text/plain": [
       "'deepali'"
      ]
     },
     "execution_count": 16,
     "metadata": {},
     "output_type": "execute_result"
    }
   ],
   "source": [
    "l[4]"
   ]
  },
  {
   "cell_type": "code",
   "execution_count": 17,
   "id": "ea169ce5-b83a-4910-bef0-1b8c23d6cf6c",
   "metadata": {},
   "outputs": [
    {
     "data": {
      "text/plain": [
       "str"
      ]
     },
     "execution_count": 17,
     "metadata": {},
     "output_type": "execute_result"
    }
   ],
   "source": [
    "type(l[4])"
   ]
  },
  {
   "cell_type": "code",
   "execution_count": 18,
   "id": "5cb6cf8d-2155-4229-adf6-dafae470b814",
   "metadata": {},
   "outputs": [
    {
     "data": {
      "text/plain": [
       "'de'"
      ]
     },
     "execution_count": 18,
     "metadata": {},
     "output_type": "execute_result"
    }
   ],
   "source": [
    "l[4][0:2]"
   ]
  },
  {
   "cell_type": "code",
   "execution_count": 19,
   "id": "9f249021-060e-4499-8f87-f6b4d3f56f72",
   "metadata": {},
   "outputs": [],
   "source": [
    "l1 = [1,2,3,45,5]"
   ]
  },
  {
   "cell_type": "code",
   "execution_count": 20,
   "id": "7ee32996-45db-466e-99c6-efc146f83582",
   "metadata": {},
   "outputs": [
    {
     "data": {
      "text/plain": [
       "[1, 23, 45, 66, 'deepali', (5+7j), 1, 2, 3, 45, 5]"
      ]
     },
     "execution_count": 20,
     "metadata": {},
     "output_type": "execute_result"
    }
   ],
   "source": [
    "l+l1"
   ]
  },
  {
   "cell_type": "code",
   "execution_count": 21,
   "id": "0ed8c76b-6c56-4fdb-a46d-1319dcd4cfbf",
   "metadata": {},
   "outputs": [
    {
     "data": {
      "text/plain": [
       "[1, 2, 3, 45, 5, 1, 2, 3, 45, 5, 1, 2, 3, 45, 5, 1, 2, 3, 45, 5]"
      ]
     },
     "execution_count": 21,
     "metadata": {},
     "output_type": "execute_result"
    }
   ],
   "source": [
    "l1 *4"
   ]
  },
  {
   "cell_type": "code",
   "execution_count": 22,
   "id": "7b69e61e-e5e1-421d-a156-27f77a2d0e91",
   "metadata": {},
   "outputs": [],
   "source": [
    "## to know the number of elements in a list"
   ]
  },
  {
   "cell_type": "code",
   "execution_count": 24,
   "id": "36781b0b-da41-49df-8d5c-6b2d732d5d6a",
   "metadata": {},
   "outputs": [
    {
     "data": {
      "text/plain": [
       "5"
      ]
     },
     "execution_count": 24,
     "metadata": {},
     "output_type": "execute_result"
    }
   ],
   "source": [
    "len(l1)"
   ]
  },
  {
   "cell_type": "code",
   "execution_count": 25,
   "id": "ca19d7d9-0735-4e05-9c3c-99c2ed85e567",
   "metadata": {},
   "outputs": [],
   "source": [
    "l.append(5)"
   ]
  },
  {
   "cell_type": "code",
   "execution_count": 26,
   "id": "16341838-fd60-460d-be83-1aa2a5ea8f0d",
   "metadata": {},
   "outputs": [
    {
     "data": {
      "text/plain": [
       "[1, 23, 45, 66, 'deepali', (5+7j), 5]"
      ]
     },
     "execution_count": 26,
     "metadata": {},
     "output_type": "execute_result"
    }
   ],
   "source": [
    "l"
   ]
  },
  {
   "cell_type": "code",
   "execution_count": 27,
   "id": "72e4a36e-3c55-4dff-a405-0c54e0abda1e",
   "metadata": {},
   "outputs": [],
   "source": [
    "l.append(s)"
   ]
  },
  {
   "cell_type": "code",
   "execution_count": 28,
   "id": "fccf5c87-0ada-4d11-a8f2-06c302ac1505",
   "metadata": {},
   "outputs": [
    {
     "data": {
      "text/plain": [
       "[1, 23, 45, 66, 'deepali', (5+7j), 5, 'linux world']"
      ]
     },
     "execution_count": 28,
     "metadata": {},
     "output_type": "execute_result"
    }
   ],
   "source": [
    "l"
   ]
  },
  {
   "cell_type": "code",
   "execution_count": 29,
   "id": "89ececb4-accd-47cd-ae52-b289f794b555",
   "metadata": {},
   "outputs": [
    {
     "data": {
      "text/plain": [
       "'linux world'"
      ]
     },
     "execution_count": 29,
     "metadata": {},
     "output_type": "execute_result"
    }
   ],
   "source": [
    "l[-1]"
   ]
  },
  {
   "cell_type": "code",
   "execution_count": 30,
   "id": "5f518953-c85d-4712-a29c-b8b0fdfba67e",
   "metadata": {},
   "outputs": [
    {
     "data": {
      "text/plain": [
       "'i'"
      ]
     },
     "execution_count": 30,
     "metadata": {},
     "output_type": "execute_result"
    }
   ],
   "source": [
    "l[-1][1]"
   ]
  },
  {
   "cell_type": "code",
   "execution_count": 31,
   "id": "53876f22-64ea-4b06-9979-9fc10416eae4",
   "metadata": {},
   "outputs": [
    {
     "data": {
      "text/plain": [
       "'d'"
      ]
     },
     "execution_count": 31,
     "metadata": {},
     "output_type": "execute_result"
    }
   ],
   "source": [
    "l[-1][-1]"
   ]
  },
  {
   "cell_type": "code",
   "execution_count": 32,
   "id": "826f6017-5997-4573-85c3-6f8239909bf5",
   "metadata": {},
   "outputs": [],
   "source": [
    "l.extend(\"cd\")"
   ]
  },
  {
   "cell_type": "code",
   "execution_count": 33,
   "id": "358e710d-7578-48f2-a41a-d843acd7d865",
   "metadata": {},
   "outputs": [
    {
     "data": {
      "text/plain": [
       "[1, 23, 45, 66, 'deepali', (5+7j), 5, 'linux world', 'c', 'd']"
      ]
     },
     "execution_count": 33,
     "metadata": {},
     "output_type": "execute_result"
    }
   ],
   "source": [
    "l"
   ]
  },
  {
   "cell_type": "code",
   "execution_count": 34,
   "id": "5cf6b88a-12a6-45b5-8573-1b042121ae6f",
   "metadata": {},
   "outputs": [],
   "source": [
    "l2 = \"abcd\""
   ]
  },
  {
   "cell_type": "code",
   "execution_count": 35,
   "id": "491e4f67-e63e-4445-a08c-60aa2ede6a33",
   "metadata": {},
   "outputs": [],
   "source": [
    "l.extend(l2)"
   ]
  },
  {
   "cell_type": "code",
   "execution_count": 36,
   "id": "dd3f998f-6e52-4133-9919-053b2cb3fd61",
   "metadata": {},
   "outputs": [
    {
     "data": {
      "text/plain": [
       "[1,\n",
       " 23,\n",
       " 45,\n",
       " 66,\n",
       " 'deepali',\n",
       " (5+7j),\n",
       " 5,\n",
       " 'linux world',\n",
       " 'c',\n",
       " 'd',\n",
       " 'a',\n",
       " 'b',\n",
       " 'c',\n",
       " 'd']"
      ]
     },
     "execution_count": 36,
     "metadata": {},
     "output_type": "execute_result"
    }
   ],
   "source": [
    "l"
   ]
  },
  {
   "cell_type": "code",
   "execution_count": 37,
   "id": "d2d8062a-1141-41d4-9ce7-b031a930689f",
   "metadata": {},
   "outputs": [],
   "source": [
    "l.insert(1 , \"deepu\")"
   ]
  },
  {
   "cell_type": "code",
   "execution_count": 38,
   "id": "de9cec00-b3d5-4f58-baa7-4acf1a726295",
   "metadata": {},
   "outputs": [
    {
     "data": {
      "text/plain": [
       "[1,\n",
       " 'deepu',\n",
       " 23,\n",
       " 45,\n",
       " 66,\n",
       " 'deepali',\n",
       " (5+7j),\n",
       " 5,\n",
       " 'linux world',\n",
       " 'c',\n",
       " 'd',\n",
       " 'a',\n",
       " 'b',\n",
       " 'c',\n",
       " 'd']"
      ]
     },
     "execution_count": 38,
     "metadata": {},
     "output_type": "execute_result"
    }
   ],
   "source": [
    "l"
   ]
  },
  {
   "cell_type": "code",
   "execution_count": 39,
   "id": "f56613ba-c197-4fc5-b9a4-1ff4d7251704",
   "metadata": {},
   "outputs": [],
   "source": [
    "l.insert(2 , l1)"
   ]
  },
  {
   "cell_type": "code",
   "execution_count": 40,
   "id": "d00c38a5-36be-4e98-8b87-2724e1ffcce9",
   "metadata": {},
   "outputs": [
    {
     "data": {
      "text/plain": [
       "[1,\n",
       " 'deepu',\n",
       " [1, 2, 3, 45, 5],\n",
       " 23,\n",
       " 45,\n",
       " 66,\n",
       " 'deepali',\n",
       " (5+7j),\n",
       " 5,\n",
       " 'linux world',\n",
       " 'c',\n",
       " 'd',\n",
       " 'a',\n",
       " 'b',\n",
       " 'c',\n",
       " 'd']"
      ]
     },
     "execution_count": 40,
     "metadata": {},
     "output_type": "execute_result"
    }
   ],
   "source": [
    "l"
   ]
  },
  {
   "cell_type": "code",
   "execution_count": 41,
   "id": "89cfb9e0-8a43-4474-ab1e-81f6e25c4b28",
   "metadata": {},
   "outputs": [],
   "source": [
    "l.insert(-1 , 45)"
   ]
  },
  {
   "cell_type": "code",
   "execution_count": 42,
   "id": "d0317f9e-f632-41b2-9d21-2ba6c126e0e4",
   "metadata": {},
   "outputs": [
    {
     "data": {
      "text/plain": [
       "[1,\n",
       " 'deepu',\n",
       " [1, 2, 3, 45, 5],\n",
       " 23,\n",
       " 45,\n",
       " 66,\n",
       " 'deepali',\n",
       " (5+7j),\n",
       " 5,\n",
       " 'linux world',\n",
       " 'c',\n",
       " 'd',\n",
       " 'a',\n",
       " 'b',\n",
       " 'c',\n",
       " 45,\n",
       " 'd']"
      ]
     },
     "execution_count": 42,
     "metadata": {},
     "output_type": "execute_result"
    }
   ],
   "source": [
    "l"
   ]
  },
  {
   "cell_type": "code",
   "execution_count": 43,
   "id": "312e5379-0514-4974-b779-abb5c1bb27dc",
   "metadata": {},
   "outputs": [
    {
     "data": {
      "text/plain": [
       "23"
      ]
     },
     "execution_count": 43,
     "metadata": {},
     "output_type": "execute_result"
    }
   ],
   "source": [
    "l.pop(3)"
   ]
  },
  {
   "cell_type": "code",
   "execution_count": 44,
   "id": "f2a828ec-919d-4968-9c5a-522caac3b25e",
   "metadata": {},
   "outputs": [
    {
     "data": {
      "text/plain": [
       "[1,\n",
       " 'deepu',\n",
       " [1, 2, 3, 45, 5],\n",
       " 45,\n",
       " 66,\n",
       " 'deepali',\n",
       " (5+7j),\n",
       " 5,\n",
       " 'linux world',\n",
       " 'c',\n",
       " 'd',\n",
       " 'a',\n",
       " 'b',\n",
       " 'c',\n",
       " 45,\n",
       " 'd']"
      ]
     },
     "execution_count": 44,
     "metadata": {},
     "output_type": "execute_result"
    }
   ],
   "source": [
    "l"
   ]
  },
  {
   "cell_type": "code",
   "execution_count": 45,
   "id": "de3d9ff4-1b3d-4e4d-a86c-bfc5dcd59a3a",
   "metadata": {},
   "outputs": [],
   "source": [
    "l.remove(45)"
   ]
  },
  {
   "cell_type": "code",
   "execution_count": 46,
   "id": "a18aa148-7243-4609-b86d-1764d64cc9e5",
   "metadata": {},
   "outputs": [
    {
     "data": {
      "text/plain": [
       "[1,\n",
       " 'deepu',\n",
       " [1, 2, 3, 45, 5],\n",
       " 66,\n",
       " 'deepali',\n",
       " (5+7j),\n",
       " 5,\n",
       " 'linux world',\n",
       " 'c',\n",
       " 'd',\n",
       " 'a',\n",
       " 'b',\n",
       " 'c',\n",
       " 45,\n",
       " 'd']"
      ]
     },
     "execution_count": 46,
     "metadata": {},
     "output_type": "execute_result"
    }
   ],
   "source": [
    "l"
   ]
  },
  {
   "cell_type": "code",
   "execution_count": 47,
   "id": "8e5bb2da-ad9a-475c-8215-6968d2ce100c",
   "metadata": {},
   "outputs": [
    {
     "data": {
      "text/plain": [
       "15"
      ]
     },
     "execution_count": 47,
     "metadata": {},
     "output_type": "execute_result"
    }
   ],
   "source": [
    "len(l)"
   ]
  },
  {
   "cell_type": "code",
   "execution_count": 50,
   "id": "1ce63a07-0521-49bd-bf5a-059664df2987",
   "metadata": {},
   "outputs": [
    {
     "data": {
      "text/plain": [
       "3"
      ]
     },
     "execution_count": 50,
     "metadata": {},
     "output_type": "execute_result"
    }
   ],
   "source": [
    "l[2][2]"
   ]
  },
  {
   "cell_type": "code",
   "execution_count": 52,
   "id": "f23f079f-91b7-4eff-9e5f-2f18fb341b9c",
   "metadata": {},
   "outputs": [],
   "source": [
    "l[2].remove(3)"
   ]
  },
  {
   "cell_type": "code",
   "execution_count": 53,
   "id": "e8f3ba15-159a-43f3-8714-1e2c5580444b",
   "metadata": {},
   "outputs": [
    {
     "data": {
      "text/plain": [
       "[1,\n",
       " 'deepu',\n",
       " [1, 2, 45, 5],\n",
       " 66,\n",
       " 'deepali',\n",
       " (5+7j),\n",
       " 5,\n",
       " 'linux world',\n",
       " 'c',\n",
       " 'd',\n",
       " 'a',\n",
       " 'b',\n",
       " 'c',\n",
       " 45,\n",
       " 'd']"
      ]
     },
     "execution_count": 53,
     "metadata": {},
     "output_type": "execute_result"
    }
   ],
   "source": [
    "l"
   ]
  },
  {
   "cell_type": "code",
   "execution_count": 54,
   "id": "b2d3d205-4666-4e39-81b0-c07c5cc4a991",
   "metadata": {},
   "outputs": [
    {
     "data": {
      "text/plain": [
       "'deepu'"
      ]
     },
     "execution_count": 54,
     "metadata": {},
     "output_type": "execute_result"
    }
   ],
   "source": [
    "l[1]."
   ]
  },
  {
   "cell_type": "code",
   "execution_count": 55,
   "id": "46cd317e-c74c-4918-96d3-32e6b6e7838c",
   "metadata": {},
   "outputs": [],
   "source": [
    "l.reverse()"
   ]
  },
  {
   "cell_type": "code",
   "execution_count": 56,
   "id": "813069a0-9603-46cc-bb08-8f255205c24a",
   "metadata": {},
   "outputs": [
    {
     "data": {
      "text/plain": [
       "['d',\n",
       " 45,\n",
       " 'c',\n",
       " 'b',\n",
       " 'a',\n",
       " 'd',\n",
       " 'c',\n",
       " 'linux world',\n",
       " 5,\n",
       " (5+7j),\n",
       " 'deepali',\n",
       " 66,\n",
       " [1, 2, 45, 5],\n",
       " 'deepu',\n",
       " 1]"
      ]
     },
     "execution_count": 56,
     "metadata": {},
     "output_type": "execute_result"
    }
   ],
   "source": [
    "l"
   ]
  },
  {
   "cell_type": "code",
   "execution_count": 57,
   "id": "782c7bad-cbe7-4853-8c5c-7ca477ea60e6",
   "metadata": {},
   "outputs": [],
   "source": [
    "l1 = l[::-1]"
   ]
  },
  {
   "cell_type": "code",
   "execution_count": 58,
   "id": "79537d09-5a2c-4406-b4a3-8eae2d5f8a70",
   "metadata": {},
   "outputs": [
    {
     "data": {
      "text/plain": [
       "[1,\n",
       " 'deepu',\n",
       " [1, 2, 45, 5],\n",
       " 66,\n",
       " 'deepali',\n",
       " (5+7j),\n",
       " 5,\n",
       " 'linux world',\n",
       " 'c',\n",
       " 'd',\n",
       " 'a',\n",
       " 'b',\n",
       " 'c',\n",
       " 45,\n",
       " 'd']"
      ]
     },
     "execution_count": 58,
     "metadata": {},
     "output_type": "execute_result"
    }
   ],
   "source": [
    "l1"
   ]
  },
  {
   "cell_type": "code",
   "execution_count": 59,
   "id": "1d66df39-d723-431c-8392-101712638c34",
   "metadata": {},
   "outputs": [
    {
     "data": {
      "text/plain": [
       "['d',\n",
       " 45,\n",
       " 'c',\n",
       " 'b',\n",
       " 'a',\n",
       " 'd',\n",
       " 'c',\n",
       " 'linux world',\n",
       " 5,\n",
       " (5+7j),\n",
       " 'deepali',\n",
       " 66,\n",
       " [1, 2, 45, 5],\n",
       " 'deepu',\n",
       " 1]"
      ]
     },
     "execution_count": 59,
     "metadata": {},
     "output_type": "execute_result"
    }
   ],
   "source": [
    "l"
   ]
  },
  {
   "cell_type": "code",
   "execution_count": 61,
   "id": "7e7ee992-2cf8-465d-8e0b-6e9cd287cb0b",
   "metadata": {},
   "outputs": [],
   "source": [
    "l1=l.reverse()"
   ]
  },
  {
   "cell_type": "markdown",
   "id": "6720d6e0-6da9-437e-a776-ae0af2c98271",
   "metadata": {},
   "source": [
    "# "
   ]
  },
  {
   "cell_type": "code",
   "execution_count": 62,
   "id": "3fa506f7-58cc-4d95-b8ff-1bae4230da31",
   "metadata": {},
   "outputs": [],
   "source": [
    "l1"
   ]
  },
  {
   "cell_type": "code",
   "execution_count": 63,
   "id": "47048f24-52a8-4f06-8688-bc8aed2aebfd",
   "metadata": {},
   "outputs": [
    {
     "data": {
      "text/plain": [
       "[1,\n",
       " 'deepu',\n",
       " [1, 2, 45, 5],\n",
       " 66,\n",
       " 'deepali',\n",
       " (5+7j),\n",
       " 5,\n",
       " 'linux world',\n",
       " 'c',\n",
       " 'd',\n",
       " 'a',\n",
       " 'b',\n",
       " 'c',\n",
       " 45,\n",
       " 'd']"
      ]
     },
     "execution_count": 63,
     "metadata": {},
     "output_type": "execute_result"
    }
   ],
   "source": [
    "l"
   ]
  },
  {
   "cell_type": "code",
   "execution_count": 67,
   "id": "b3b67965-1fef-4b65-a396-0cca64b3e8e9",
   "metadata": {},
   "outputs": [],
   "source": [
    "l4 = [89,2,3,4,99,6,7,8]"
   ]
  },
  {
   "cell_type": "code",
   "execution_count": 68,
   "id": "1f3fae3a-9a31-4f7d-bddd-a292e2304728",
   "metadata": {},
   "outputs": [],
   "source": [
    "l4.sort()"
   ]
  },
  {
   "cell_type": "code",
   "execution_count": 69,
   "id": "b1e27bc0-3553-460d-aa2b-fa0842c9ec7e",
   "metadata": {},
   "outputs": [
    {
     "data": {
      "text/plain": [
       "[2, 3, 4, 6, 7, 8, 89, 99]"
      ]
     },
     "execution_count": 69,
     "metadata": {},
     "output_type": "execute_result"
    }
   ],
   "source": [
    "l4"
   ]
  },
  {
   "cell_type": "code",
   "execution_count": 70,
   "id": "f2f3ef2c-d916-4fb4-b656-6b20d3e074d0",
   "metadata": {},
   "outputs": [],
   "source": [
    "l4.append(\"dee\")"
   ]
  },
  {
   "cell_type": "code",
   "execution_count": 71,
   "id": "e291eb66-642e-48cf-bc5b-eac7a946dbb3",
   "metadata": {},
   "outputs": [
    {
     "data": {
      "text/plain": [
       "[2, 3, 4, 6, 7, 8, 89, 99, 'dee']"
      ]
     },
     "execution_count": 71,
     "metadata": {},
     "output_type": "execute_result"
    }
   ],
   "source": [
    "l4"
   ]
  },
  {
   "cell_type": "code",
   "execution_count": 72,
   "id": "1fa9bf35-d1dc-4c99-a4fc-315f7b5aca4f",
   "metadata": {},
   "outputs": [
    {
     "data": {
      "text/plain": [
       "[1,\n",
       " 'deepu',\n",
       " [1, 2, 45, 5],\n",
       " 66,\n",
       " 'deepali',\n",
       " (5+7j),\n",
       " 5,\n",
       " 'linux world',\n",
       " 'c',\n",
       " 'd',\n",
       " 'a',\n",
       " 'b',\n",
       " 'c',\n",
       " 45,\n",
       " 'd',\n",
       " 2,\n",
       " 3,\n",
       " 4,\n",
       " 6,\n",
       " 7,\n",
       " 8,\n",
       " 89,\n",
       " 99,\n",
       " 'dee']"
      ]
     },
     "execution_count": 72,
     "metadata": {},
     "output_type": "execute_result"
    }
   ],
   "source": [
    "l+l4"
   ]
  },
  {
   "cell_type": "code",
   "execution_count": 73,
   "id": "cfa1cbef-a4df-4a3e-ac61-d67933fdf4de",
   "metadata": {},
   "outputs": [],
   "source": [
    "s = \"ram\""
   ]
  },
  {
   "cell_type": "code",
   "execution_count": 74,
   "id": "3d01caea-7e9c-4a44-a052-a9c6c805eac5",
   "metadata": {},
   "outputs": [],
   "source": [
    "l4.append(s)"
   ]
  },
  {
   "cell_type": "code",
   "execution_count": 75,
   "id": "4fe6b5ea-5ff2-40fc-a366-2ee7e7cfaf3c",
   "metadata": {},
   "outputs": [
    {
     "data": {
      "text/plain": [
       "[2, 3, 4, 6, 7, 8, 89, 99, 'dee', 'ram']"
      ]
     },
     "execution_count": 75,
     "metadata": {},
     "output_type": "execute_result"
    }
   ],
   "source": [
    "l4"
   ]
  },
  {
   "cell_type": "code",
   "execution_count": 76,
   "id": "f3ab4f82-208f-4755-9e61-36f0a60fbe1f",
   "metadata": {},
   "outputs": [
    {
     "ename": "TypeError",
     "evalue": "can only concatenate list (not \"str\") to list",
     "output_type": "error",
     "traceback": [
      "\u001b[1;31m---------------------------------------------------------------------------\u001b[0m",
      "\u001b[1;31mTypeError\u001b[0m                                 Traceback (most recent call last)",
      "Cell \u001b[1;32mIn[76], line 1\u001b[0m\n\u001b[1;32m----> 1\u001b[0m \u001b[43ml4\u001b[49m\u001b[38;5;241;43m+\u001b[39;49m\u001b[43ms\u001b[49m\n",
      "\u001b[1;31mTypeError\u001b[0m: can only concatenate list (not \"str\") to list"
     ]
    }
   ],
   "source": [
    "l4+s"
   ]
  },
  {
   "cell_type": "code",
   "execution_count": 77,
   "id": "13b2ddea-c2fe-472b-85c7-da18f75b7d49",
   "metadata": {},
   "outputs": [],
   "source": [
    "l5 = [\"janwar\",\"animal\",\"hoooman\"]"
   ]
  },
  {
   "cell_type": "code",
   "execution_count": 78,
   "id": "7cee58c9-377d-4c75-82f6-1cf3eaf0848d",
   "metadata": {},
   "outputs": [],
   "source": [
    "l5.sort()"
   ]
  },
  {
   "cell_type": "code",
   "execution_count": 79,
   "id": "97f9b357-a4dd-459d-90c9-cb47aedb3bff",
   "metadata": {},
   "outputs": [
    {
     "data": {
      "text/plain": [
       "['animal', 'hoooman', 'janwar']"
      ]
     },
     "execution_count": 79,
     "metadata": {},
     "output_type": "execute_result"
    }
   ],
   "source": [
    "l5"
   ]
  },
  {
   "cell_type": "code",
   "execution_count": 81,
   "id": "b3cac03d-4e89-4dd6-bde7-cc8a4c4c7a7d",
   "metadata": {},
   "outputs": [],
   "source": [
    "l5.sort(reverse=True)"
   ]
  },
  {
   "cell_type": "markdown",
   "id": "61d9a33a-f16d-459c-a4af-34cb997cfdb0",
   "metadata": {},
   "source": [
    "##### "
   ]
  },
  {
   "cell_type": "code",
   "execution_count": 82,
   "id": "f6261409-6c65-491b-acc8-e5fc781e7543",
   "metadata": {},
   "outputs": [
    {
     "data": {
      "text/plain": [
       "['janwar', 'hoooman', 'animal']"
      ]
     },
     "execution_count": 82,
     "metadata": {},
     "output_type": "execute_result"
    }
   ],
   "source": [
    "l5"
   ]
  },
  {
   "cell_type": "code",
   "execution_count": 84,
   "id": "e2f995a8-28e6-4bad-9860-460a92728b48",
   "metadata": {},
   "outputs": [
    {
     "data": {
      "text/plain": [
       "0"
      ]
     },
     "execution_count": 84,
     "metadata": {},
     "output_type": "execute_result"
    }
   ],
   "source": [
    "l5.index(\"janwar\")"
   ]
  },
  {
   "cell_type": "code",
   "execution_count": 85,
   "id": "1829026f-c5db-4c18-89b5-ca1bc8e607e3",
   "metadata": {},
   "outputs": [
    {
     "data": {
      "text/plain": [
       "0"
      ]
     },
     "execution_count": 85,
     "metadata": {},
     "output_type": "execute_result"
    }
   ],
   "source": [
    "l5.count(\"hooman\")"
   ]
  },
  {
   "cell_type": "code",
   "execution_count": 2,
   "id": "26f8c859-65bf-40da-bad5-c812f4c5473f",
   "metadata": {},
   "outputs": [],
   "source": [
    "d = \"deepali\""
   ]
  },
  {
   "cell_type": "code",
   "execution_count": 3,
   "id": "c43ea824-7e22-4759-adc8-4bef6cb4f622",
   "metadata": {},
   "outputs": [
    {
     "data": {
      "text/plain": [
       "'deepali'"
      ]
     },
     "execution_count": 3,
     "metadata": {},
     "output_type": "execute_result"
    }
   ],
   "source": [
    "d"
   ]
  },
  {
   "cell_type": "code",
   "execution_count": 88,
   "id": "b7a55d4a-3b37-4286-865a-6495f6b9ca53",
   "metadata": {},
   "outputs": [],
   "source": [
    "l6 = [3,4,56,7,7,8]"
   ]
  },
  {
   "cell_type": "code",
   "execution_count": 89,
   "id": "adff80da-c3b2-4f6d-909a-b3d0d09a37ed",
   "metadata": {},
   "outputs": [
    {
     "ename": "TypeError",
     "evalue": "'str' object does not support item assignment",
     "output_type": "error",
     "traceback": [
      "\u001b[1;31m---------------------------------------------------------------------------\u001b[0m",
      "\u001b[1;31mTypeError\u001b[0m                                 Traceback (most recent call last)",
      "Cell \u001b[1;32mIn[89], line 1\u001b[0m\n\u001b[1;32m----> 1\u001b[0m \u001b[43md\u001b[49m\u001b[43m[\u001b[49m\u001b[38;5;241;43m0\u001b[39;49m\u001b[43m]\u001b[49m \u001b[38;5;241m=\u001b[39m \u001b[38;5;124m'\u001b[39m\u001b[38;5;124ma\u001b[39m\u001b[38;5;124m'\u001b[39m\n",
      "\u001b[1;31mTypeError\u001b[0m: 'str' object does not support item assignment"
     ]
    }
   ],
   "source": [
    "d[0] = 'a'"
   ]
  },
  {
   "cell_type": "code",
   "execution_count": 90,
   "id": "7c9b2241-b6fe-4f04-909c-f6e191a36436",
   "metadata": {},
   "outputs": [],
   "source": [
    "l6[0]= 7"
   ]
  },
  {
   "cell_type": "code",
   "execution_count": 91,
   "id": "ce9a8767-f555-4855-8582-ec698c1d2db5",
   "metadata": {},
   "outputs": [
    {
     "data": {
      "text/plain": [
       "[7, 4, 56, 7, 7, 8]"
      ]
     },
     "execution_count": 91,
     "metadata": {},
     "output_type": "execute_result"
    }
   ],
   "source": [
    "l6"
   ]
  },
  {
   "cell_type": "code",
   "execution_count": 92,
   "id": "9aaf4aa3-761d-4ca2-981d-aa5827f1621f",
   "metadata": {},
   "outputs": [
    {
     "data": {
      "text/plain": [
       "'meepali'"
      ]
     },
     "execution_count": 92,
     "metadata": {},
     "output_type": "execute_result"
    }
   ],
   "source": [
    "d.replace('d' , 'm')"
   ]
  },
  {
   "cell_type": "code",
   "execution_count": 93,
   "id": "919f0b60-fd73-4e29-b2e5-35f0e40ccaf9",
   "metadata": {},
   "outputs": [
    {
     "data": {
      "text/plain": [
       "'deepali'"
      ]
     },
     "execution_count": 93,
     "metadata": {},
     "output_type": "execute_result"
    }
   ],
   "source": [
    "d"
   ]
  },
  {
   "cell_type": "code",
   "execution_count": 4,
   "id": "a7252454-8aea-4f99-bfac-042f3dbd278c",
   "metadata": {},
   "outputs": [
    {
     "data": {
      "text/plain": [
       "'deepali'"
      ]
     },
     "execution_count": 4,
     "metadata": {},
     "output_type": "execute_result"
    }
   ],
   "source": [
    "d"
   ]
  },
  {
   "cell_type": "code",
   "execution_count": null,
   "id": "396ae57e-a492-478a-b392-34e26db9ef48",
   "metadata": {},
   "outputs": [],
   "source": []
  }
 ],
 "metadata": {
  "kernelspec": {
   "display_name": "Python 3 (ipykernel)",
   "language": "python",
   "name": "python3"
  },
  "language_info": {
   "codemirror_mode": {
    "name": "ipython",
    "version": 3
   },
   "file_extension": ".py",
   "mimetype": "text/x-python",
   "name": "python",
   "nbconvert_exporter": "python",
   "pygments_lexer": "ipython3",
   "version": "3.12.3"
  }
 },
 "nbformat": 4,
 "nbformat_minor": 5
}
