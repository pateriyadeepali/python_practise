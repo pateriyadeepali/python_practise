{
 "cells": [
  {
   "cell_type": "code",
   "execution_count": 1,
   "id": "4785445f-3f9c-4c2b-bd33-1349e6f760f6",
   "metadata": {},
   "outputs": [],
   "source": [
    "d ={}"
   ]
  },
  {
   "cell_type": "code",
   "execution_count": 2,
   "id": "b994f2ba-d44b-4159-adee-65f610cefefd",
   "metadata": {},
   "outputs": [
    {
     "data": {
      "text/plain": [
       "dict"
      ]
     },
     "execution_count": 2,
     "metadata": {},
     "output_type": "execute_result"
    }
   ],
   "source": [
    "type(d)"
   ]
  },
  {
   "cell_type": "code",
   "execution_count": 4,
   "id": "76aa4cde-bf87-447b-a31f-00b83891f848",
   "metadata": {},
   "outputs": [],
   "source": [
    "d1 = {'key': \"Deepali\"}"
   ]
  },
  {
   "cell_type": "code",
   "execution_count": 5,
   "id": "df3d7148-e2ce-4c5f-8a90-b210e335bf1c",
   "metadata": {},
   "outputs": [
    {
     "data": {
      "text/plain": [
       "{'key': 'Deepali'}"
      ]
     },
     "execution_count": 5,
     "metadata": {},
     "output_type": "execute_result"
    }
   ],
   "source": [
    "d1"
   ]
  },
  {
   "cell_type": "code",
   "execution_count": 6,
   "id": "6b3a1d79-3948-45be-941e-bad8933131ee",
   "metadata": {},
   "outputs": [],
   "source": [
    "d2 = {'name': \"deepali\" , 'email': '123@gmail.com' , 'phone_no' : 123456789}"
   ]
  },
  {
   "cell_type": "code",
   "execution_count": 7,
   "id": "a3faba2e-9afc-498f-a444-d18de2be2965",
   "metadata": {},
   "outputs": [
    {
     "data": {
      "text/plain": [
       "{'name': 'deepali', 'email': '123@gmail.com', 'phone_no': 123456789}"
      ]
     },
     "execution_count": 7,
     "metadata": {},
     "output_type": "execute_result"
    }
   ],
   "source": [
    "d2"
   ]
  },
  {
   "cell_type": "code",
   "execution_count": 11,
   "id": "d5c1c905-150a-4d3d-b028-e286cbeb1071",
   "metadata": {},
   "outputs": [],
   "source": [
    "d3 = {123 : \"deepali\" , True : \"kumar\"}"
   ]
  },
  {
   "cell_type": "code",
   "execution_count": 12,
   "id": "c9936a75-ff3e-493b-a6fc-3dbbb4b6b56a",
   "metadata": {},
   "outputs": [
    {
     "data": {
      "text/plain": [
       "{123: 'deepali', True: 'kumar'}"
      ]
     },
     "execution_count": 12,
     "metadata": {},
     "output_type": "execute_result"
    }
   ],
   "source": [
    "d3"
   ]
  },
  {
   "cell_type": "code",
   "execution_count": 14,
   "id": "1f0dc8aa-d678-4602-a423-d095cda53060",
   "metadata": {},
   "outputs": [
    {
     "data": {
      "text/plain": [
       "'deepali'"
      ]
     },
     "execution_count": 14,
     "metadata": {},
     "output_type": "execute_result"
    }
   ],
   "source": [
    "d3[123]"
   ]
  },
  {
   "cell_type": "code",
   "execution_count": 15,
   "id": "585a10c8-5b79-4794-9bc2-87f7cb65df5f",
   "metadata": {},
   "outputs": [
    {
     "data": {
      "text/plain": [
       "dict_items([(123, 'deepali'), (True, 'kumar')])"
      ]
     },
     "execution_count": 15,
     "metadata": {},
     "output_type": "execute_result"
    }
   ],
   "source": [
    "d3.items()"
   ]
  },
  {
   "cell_type": "code",
   "execution_count": 16,
   "id": "060da366-3fba-4cbe-a865-04f2a928f170",
   "metadata": {},
   "outputs": [
    {
     "data": {
      "text/plain": [
       "dict_keys([123, True])"
      ]
     },
     "execution_count": 16,
     "metadata": {},
     "output_type": "execute_result"
    }
   ],
   "source": [
    "d3.keys()"
   ]
  },
  {
   "cell_type": "code",
   "execution_count": 17,
   "id": "ecab8e37-b192-4406-b603-eb53d23a3ff4",
   "metadata": {},
   "outputs": [
    {
     "data": {
      "text/plain": [
       "dict_values(['deepali', 'kumar'])"
      ]
     },
     "execution_count": 17,
     "metadata": {},
     "output_type": "execute_result"
    }
   ],
   "source": [
    "d3.values()"
   ]
  },
  {
   "cell_type": "code",
   "execution_count": 19,
   "id": "6a94f5e3-f31e-4db7-a829-bb83d18b9c9d",
   "metadata": {},
   "outputs": [],
   "source": [
    "d4 = d3.copy()"
   ]
  },
  {
   "cell_type": "code",
   "execution_count": 20,
   "id": "739b5a04-ea62-43a1-bad8-5feffcd45fb5",
   "metadata": {},
   "outputs": [
    {
     "data": {
      "text/plain": [
       "{123: 'deepali', True: 'kumar'}"
      ]
     },
     "execution_count": 20,
     "metadata": {},
     "output_type": "execute_result"
    }
   ],
   "source": [
    "d4"
   ]
  },
  {
   "cell_type": "code",
   "execution_count": 21,
   "id": "bab09a3c-a543-454b-b846-2680a6bc88e2",
   "metadata": {},
   "outputs": [
    {
     "data": {
      "text/plain": [
       "'deepali'"
      ]
     },
     "execution_count": 21,
     "metadata": {},
     "output_type": "execute_result"
    }
   ],
   "source": [
    "d3.get(123)"
   ]
  },
  {
   "cell_type": "code",
   "execution_count": 23,
   "id": "61a4082e-17a1-49d7-bdf9-94a01c5ac307",
   "metadata": {},
   "outputs": [
    {
     "data": {
      "text/plain": [
       "'deepali'"
      ]
     },
     "execution_count": 23,
     "metadata": {},
     "output_type": "execute_result"
    }
   ],
   "source": [
    "d3.pop(123)"
   ]
  },
  {
   "cell_type": "code",
   "execution_count": 24,
   "id": "1e9842f3-d45b-40df-8241-e4084e3bbdf5",
   "metadata": {},
   "outputs": [
    {
     "data": {
      "text/plain": [
       "{True: 'kumar'}"
      ]
     },
     "execution_count": 24,
     "metadata": {},
     "output_type": "execute_result"
    }
   ],
   "source": [
    "d3"
   ]
  },
  {
   "cell_type": "code",
   "execution_count": 30,
   "id": "9f36b2de-e45d-4619-a369-d93eb1e99620",
   "metadata": {},
   "outputs": [
    {
     "data": {
      "text/plain": [
       "{'d': None, 'e': None, 'p': None, 'a': None, 'l': None, 'i': None}"
      ]
     },
     "execution_count": 30,
     "metadata": {},
     "output_type": "execute_result"
    }
   ],
   "source": [
    "d3.fromkeys(\"deepali\" )"
   ]
  },
  {
   "cell_type": "code",
   "execution_count": 32,
   "id": "5fe4b956-2209-49b8-ac51-fa0a2274ed77",
   "metadata": {},
   "outputs": [
    {
     "data": {
      "text/plain": [
       "{123: 'deepali', True: 'kumar'}"
      ]
     },
     "execution_count": 32,
     "metadata": {},
     "output_type": "execute_result"
    }
   ],
   "source": [
    "d4 "
   ]
  },
  {
   "cell_type": "code",
   "execution_count": 35,
   "id": "53c92f78-3e58-4972-beab-6d93c206a5d3",
   "metadata": {},
   "outputs": [],
   "source": [
    "d5 = {\"company\" : \"pwskills\" , 'courses' : [\"webD\" , \"ds\" , \"devops\"]}"
   ]
  },
  {
   "cell_type": "code",
   "execution_count": 36,
   "id": "81fc1adc-f68b-4213-a063-9d5f1d802251",
   "metadata": {},
   "outputs": [
    {
     "data": {
      "text/plain": [
       "{'company': 'pwskills', 'courses': ['webD', 'ds', 'devops']}"
      ]
     },
     "execution_count": 36,
     "metadata": {},
     "output_type": "execute_result"
    }
   ],
   "source": [
    "d5"
   ]
  },
  {
   "cell_type": "code",
   "execution_count": 38,
   "id": "cf7d3146-468b-4f27-910b-b3b882d9f5fc",
   "metadata": {},
   "outputs": [
    {
     "data": {
      "text/plain": [
       "'webD'"
      ]
     },
     "execution_count": 38,
     "metadata": {},
     "output_type": "execute_result"
    }
   ],
   "source": [
    "d5['courses'][0]"
   ]
  },
  {
   "cell_type": "code",
   "execution_count": 43,
   "id": "ac725e5a-bfd3-4b7c-be0a-dac2f3721e0e",
   "metadata": {},
   "outputs": [],
   "source": [
    "d6 = {\"number\": [1,2,3,4,5,6,7] , \"assignment\": (1,2,3,4,5,5,6) , \"launch_date\" :{23,21,4,14} , \"class_time\" : {\"webd\":8 , \"ds\": 7 ,\"devops\":2}}"
   ]
  },
  {
   "cell_type": "code",
   "execution_count": 44,
   "id": "02ee3a10-4d17-4dc4-85c7-dc10e720ccb3",
   "metadata": {},
   "outputs": [
    {
     "data": {
      "text/plain": [
       "{'number': [1, 2, 3, 4, 5, 6, 7],\n",
       " 'assignment': (1, 2, 3, 4, 5, 5, 6),\n",
       " 'launch_date': {4, 14, 21, 23},\n",
       " 'class_time': {'webd': 8, 'ds': 7, 'devops': 2}}"
      ]
     },
     "execution_count": 44,
     "metadata": {},
     "output_type": "execute_result"
    }
   ],
   "source": [
    "d6"
   ]
  },
  {
   "cell_type": "code",
   "execution_count": 46,
   "id": "8f0e5e02-685c-4542-9940-2df5d2d2ca4c",
   "metadata": {},
   "outputs": [
    {
     "data": {
      "text/plain": [
       "7"
      ]
     },
     "execution_count": 46,
     "metadata": {},
     "output_type": "execute_result"
    }
   ],
   "source": [
    "d6['class_time']['ds']"
   ]
  },
  {
   "cell_type": "code",
   "execution_count": 47,
   "id": "2ad9f846-6875-4812-b976-eb36de043cf8",
   "metadata": {},
   "outputs": [],
   "source": [
    "d6['mentor'] = ['vimal daga sir ' , 'sudhanshu' , 'sadab tahir']"
   ]
  },
  {
   "cell_type": "code",
   "execution_count": 48,
   "id": "94c36af4-0a1e-4088-97d6-93d4d130edf1",
   "metadata": {},
   "outputs": [
    {
     "data": {
      "text/plain": [
       "{'number': [1, 2, 3, 4, 5, 6, 7],\n",
       " 'assignment': (1, 2, 3, 4, 5, 5, 6),\n",
       " 'launch_date': {4, 14, 21, 23},\n",
       " 'class_time': {'webd': 8, 'ds': 7, 'devops': 2},\n",
       " 'mentor': ['vimal daga sir ', 'sudhanshu', 'sadab tahir']}"
      ]
     },
     "execution_count": 48,
     "metadata": {},
     "output_type": "execute_result"
    }
   ],
   "source": [
    "d6"
   ]
  },
  {
   "cell_type": "code",
   "execution_count": 50,
   "id": "1f531300-d56b-4975-95cf-221b5f92c527",
   "metadata": {},
   "outputs": [],
   "source": [
    " del d6['mentor']"
   ]
  },
  {
   "cell_type": "code",
   "execution_count": 51,
   "id": "9e0fa75d-7772-40db-ad05-5a2428eddcfa",
   "metadata": {},
   "outputs": [
    {
     "data": {
      "text/plain": [
       "{'number': [1, 2, 3, 4, 5, 6, 7],\n",
       " 'assignment': (1, 2, 3, 4, 5, 5, 6),\n",
       " 'launch_date': {4, 14, 21, 23},\n",
       " 'class_time': {'webd': 8, 'ds': 7, 'devops': 2}}"
      ]
     },
     "execution_count": 51,
     "metadata": {},
     "output_type": "execute_result"
    }
   ],
   "source": [
    "d6"
   ]
  },
  {
   "cell_type": "code",
   "execution_count": 52,
   "id": "c228779b-a79d-477e-ae27-b48dcf050e75",
   "metadata": {},
   "outputs": [
    {
     "data": {
      "text/plain": [
       "dict_keys(['number', 'assignment', 'launch_date', 'class_time'])"
      ]
     },
     "execution_count": 52,
     "metadata": {},
     "output_type": "execute_result"
    }
   ],
   "source": [
    "d6.keys()"
   ]
  },
  {
   "cell_type": "code",
   "execution_count": 53,
   "id": "bba0c407-b0c4-469f-be7b-2a1687b3eb34",
   "metadata": {},
   "outputs": [
    {
     "data": {
      "text/plain": [
       "['number', 'assignment', 'launch_date', 'class_time']"
      ]
     },
     "execution_count": 53,
     "metadata": {},
     "output_type": "execute_result"
    }
   ],
   "source": [
    "list(d6.keys())"
   ]
  },
  {
   "cell_type": "code",
   "execution_count": 54,
   "id": "da544d96-b9d2-41b8-a1cb-d581741e34eb",
   "metadata": {},
   "outputs": [
    {
     "data": {
      "text/plain": [
       "[[1, 2, 3, 4, 5, 6, 7],\n",
       " (1, 2, 3, 4, 5, 5, 6),\n",
       " {4, 14, 21, 23},\n",
       " {'webd': 8, 'ds': 7, 'devops': 2}]"
      ]
     },
     "execution_count": 54,
     "metadata": {},
     "output_type": "execute_result"
    }
   ],
   "source": [
    "list(d6.values())"
   ]
  },
  {
   "cell_type": "code",
   "execution_count": 55,
   "id": "90a0cefd-9c71-4f8d-acc2-05dcb342fbb2",
   "metadata": {},
   "outputs": [
    {
     "data": {
      "text/plain": [
       "dict_items([('number', [1, 2, 3, 4, 5, 6, 7]), ('assignment', (1, 2, 3, 4, 5, 5, 6)), ('launch_date', {4, 21, 14, 23}), ('class_time', {'webd': 8, 'ds': 7, 'devops': 2})])"
      ]
     },
     "execution_count": 55,
     "metadata": {},
     "output_type": "execute_result"
    }
   ],
   "source": [
    "d6.items()"
   ]
  },
  {
   "cell_type": "code",
   "execution_count": 56,
   "id": "37fc0703-ab43-41ca-a1c7-9fe7d8a59a94",
   "metadata": {},
   "outputs": [
    {
     "data": {
      "text/plain": [
       "[('number', [1, 2, 3, 4, 5, 6, 7]),\n",
       " ('assignment', (1, 2, 3, 4, 5, 5, 6)),\n",
       " ('launch_date', {4, 14, 21, 23}),\n",
       " ('class_time', {'webd': 8, 'ds': 7, 'devops': 2})]"
      ]
     },
     "execution_count": 56,
     "metadata": {},
     "output_type": "execute_result"
    }
   ],
   "source": [
    "list(d6.items())"
   ]
  },
  {
   "cell_type": "code",
   "execution_count": 63,
   "id": "07494721-c238-49a1-86d3-ff427cdeb81a",
   "metadata": {},
   "outputs": [
    {
     "name": "stdin",
     "output_type": "stream",
     "text": [
      "enter the marks 78\n"
     ]
    },
    {
     "name": "stdout",
     "output_type": "stream",
     "text": [
      "you will be a part of A1 batch\n"
     ]
    }
   ],
   "source": [
    "marks = int(input(\"enter the marks\"))\n",
    "if marks >=80 :\n",
    "    print(\"you will be a part of A0 batch\")\n",
    "elif marks<80 and marks>=60 :\n",
    "    print(\"you will be a part of A1 batch\")\n",
    "elif marks<60 and marks>=40 :\n",
    "    print(\"you will be apart of A2 batch\")\n",
    "else:\n",
    "    print(\"you will be a part of a3 batches\")\n",
    "    "
   ]
  },
  {
   "cell_type": "code",
   "execution_count": 70,
   "id": "d6c2219d-e326-48ef-87d6-ef6b7fa47b01",
   "metadata": {},
   "outputs": [],
   "source": [
    "l  = [1,2,3,4,5,6,7,8]"
   ]
  },
  {
   "cell_type": "code",
   "execution_count": 71,
   "id": "7b991776-6efc-4ffa-a933-fae51af566a5",
   "metadata": {},
   "outputs": [],
   "source": [
    "### we want to add 1 to each and every element of this list\n"
   ]
  },
  {
   "cell_type": "code",
   "execution_count": 69,
   "id": "e3ee08c3-de05-4545-8914-82b94ac507f7",
   "metadata": {},
   "outputs": [
    {
     "data": {
      "text/plain": [
       "3"
      ]
     },
     "execution_count": 69,
     "metadata": {},
     "output_type": "execute_result"
    }
   ],
   "source": [
    "l[0]+2"
   ]
  },
  {
   "cell_type": "code",
   "execution_count": 72,
   "id": "35c51d93-7cc6-41da-aa15-c004c13508ae",
   "metadata": {},
   "outputs": [],
   "source": [
    "l2 = []"
   ]
  },
  {
   "cell_type": "code",
   "execution_count": 76,
   "id": "300b7c8a-303f-44cd-8019-ce49dab558bc",
   "metadata": {},
   "outputs": [],
   "source": [
    "l2.append(l[0]+1)"
   ]
  },
  {
   "cell_type": "code",
   "execution_count": 74,
   "id": "f61b71b7-ba13-4514-b108-5dfee8a3e3f0",
   "metadata": {},
   "outputs": [
    {
     "data": {
      "text/plain": [
       "[2]"
      ]
     },
     "execution_count": 74,
     "metadata": {},
     "output_type": "execute_result"
    }
   ],
   "source": [
    "l2"
   ]
  },
  {
   "cell_type": "code",
   "execution_count": 77,
   "id": "aa2a8848-2b76-4010-8a18-a15a711cefd3",
   "metadata": {},
   "outputs": [],
   "source": [
    "l2.append(l[1]+1)"
   ]
  },
  {
   "cell_type": "code",
   "execution_count": 78,
   "id": "1c024c54-9565-4fdc-8bd6-357cb2b75234",
   "metadata": {},
   "outputs": [
    {
     "data": {
      "text/plain": [
       "[2, 2, 3]"
      ]
     },
     "execution_count": 78,
     "metadata": {},
     "output_type": "execute_result"
    }
   ],
   "source": [
    "l2"
   ]
  },
  {
   "cell_type": "code",
   "execution_count": 80,
   "id": "80fe0695-a3e8-40bf-bf39-6ad53fef98cb",
   "metadata": {},
   "outputs": [
    {
     "name": "stdout",
     "output_type": "stream",
     "text": [
      "2\n",
      "3\n",
      "4\n",
      "5\n",
      "6\n",
      "7\n",
      "8\n",
      "9\n"
     ]
    }
   ],
   "source": [
    "for i in l:\n",
    "    print(i+1)"
   ]
  },
  {
   "cell_type": "code",
   "execution_count": 81,
   "id": "5eb9d8de-75ea-4406-83e1-ba006f4d8ecc",
   "metadata": {},
   "outputs": [],
   "source": [
    "l5 = []\n",
    "for i in l :\n",
    "    l5.append(i+1)\n",
    "    "
   ]
  },
  {
   "cell_type": "code",
   "execution_count": 82,
   "id": "d820e332-8399-48e1-ac32-906a248f43da",
   "metadata": {},
   "outputs": [
    {
     "data": {
      "text/plain": [
       "[2, 3, 4, 5, 6, 7, 8, 9]"
      ]
     },
     "execution_count": 82,
     "metadata": {},
     "output_type": "execute_result"
    }
   ],
   "source": [
    "l5"
   ]
  },
  {
   "cell_type": "code",
   "execution_count": 83,
   "id": "e67b47f8-832e-48f0-876f-e75db3e7a584",
   "metadata": {},
   "outputs": [],
   "source": [
    "l = [\"deepali\" , \"ram\" , \"sita\"]"
   ]
  },
  {
   "cell_type": "code",
   "execution_count": 84,
   "id": "e34b405e-85fa-43b0-85a7-591a364192fc",
   "metadata": {},
   "outputs": [
    {
     "name": "stdout",
     "output_type": "stream",
     "text": [
      "deepali\n",
      "ram\n",
      "sita\n"
     ]
    }
   ],
   "source": [
    "for i in l :\n",
    "    print(i)"
   ]
  },
  {
   "cell_type": "code",
   "execution_count": 85,
   "id": "cc42ea6c-c37e-4247-a382-dba677a37eb0",
   "metadata": {},
   "outputs": [],
   "source": [
    "l6=[]\n",
    "for i in l:\n",
    "    l6.append(i.upper())\n",
    "    "
   ]
  },
  {
   "cell_type": "code",
   "execution_count": 86,
   "id": "6e952583-1002-4916-ae5d-94c98a7a5929",
   "metadata": {},
   "outputs": [
    {
     "data": {
      "text/plain": [
       "['DEEPALI', 'RAM', 'SITA']"
      ]
     },
     "execution_count": 86,
     "metadata": {},
     "output_type": "execute_result"
    }
   ],
   "source": [
    "l6"
   ]
  },
  {
   "cell_type": "code",
   "execution_count": 87,
   "id": "8f096b34-b3ff-42cb-8f6d-34486e9add46",
   "metadata": {},
   "outputs": [],
   "source": [
    "l = [1,2,3,4,5, \"deepali\" , \"pateriya\" , 123 , 56.6 , \"avni\"]"
   ]
  },
  {
   "cell_type": "code",
   "execution_count": 88,
   "id": "9fa82105-ee13-46d5-89d4-c114372bf202",
   "metadata": {},
   "outputs": [],
   "source": [
    "l1_num = []\n",
    "l2_str = []\n",
    "for i in l:\n",
    "    if type(i)== int or type(i)== float:\n",
    "        l1_num.append(i)\n",
    "    else:\n",
    "        l2_str.append(i)\n",
    "    "
   ]
  },
  {
   "cell_type": "code",
   "execution_count": 89,
   "id": "463eb104-273a-40fe-ba0c-78cf95f7221a",
   "metadata": {},
   "outputs": [
    {
     "data": {
      "text/plain": [
       "[1, 2, 3, 4, 5, 123, 56.6]"
      ]
     },
     "execution_count": 89,
     "metadata": {},
     "output_type": "execute_result"
    }
   ],
   "source": [
    "l1_num"
   ]
  },
  {
   "cell_type": "code",
   "execution_count": 90,
   "id": "c1550d89-62cf-4a4f-bf56-e0af96333f09",
   "metadata": {},
   "outputs": [
    {
     "data": {
      "text/plain": [
       "['deepali', 'pateriya', 'avni']"
      ]
     },
     "execution_count": 90,
     "metadata": {},
     "output_type": "execute_result"
    }
   ],
   "source": [
    "l2_str"
   ]
  },
  {
   "cell_type": "code",
   "execution_count": null,
   "id": "12f9d9b2-64ad-4a90-be9b-a1cdfad3d8a6",
   "metadata": {},
   "outputs": [],
   "source": []
  }
 ],
 "metadata": {
  "kernelspec": {
   "display_name": "Python 3 (ipykernel)",
   "language": "python",
   "name": "python3"
  },
  "language_info": {
   "codemirror_mode": {
    "name": "ipython",
    "version": 3
   },
   "file_extension": ".py",
   "mimetype": "text/x-python",
   "name": "python",
   "nbconvert_exporter": "python",
   "pygments_lexer": "ipython3",
   "version": "3.12.3"
  }
 },
 "nbformat": 4,
 "nbformat_minor": 5
}
